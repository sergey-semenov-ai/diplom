{
 "cells": [
  {
   "cell_type": "code",
   "execution_count": 8,
   "id": "3c53ebe3",
   "metadata": {},
   "outputs": [],
   "source": [
    "from sklearn.model_selection import GridSearchCV\n",
    "import pandas as pd\n",
    "import numpy as np\n",
    "import pipes2 as pp\n",
    "from sklearn.svm import SVC  ### Замена класса"
   ]
  },
  {
   "cell_type": "code",
   "execution_count": 9,
   "id": "eb562f28",
   "metadata": {},
   "outputs": [],
   "source": [
    "df = pd.read_csv('air_train.csv')\n",
    "df = df.drop(['Unnamed: 0','id'], axis = 1)\n",
    "df = pp.myPipe.transform(df)\n",
    "X = df.drop(['satisfaction'], axis = 1)\n",
    "y = df.satisfaction\n",
    "\n",
    "t = pd.read_csv('air_test.csv')\n",
    "t = t.drop(['Unnamed: 0','id'], axis = 1)\n",
    "t = pp.myPipe.transform(t)\n",
    "X_t = t.drop(['satisfaction'], axis = 1)\n",
    "y_t = t.satisfaction"
   ]
  },
  {
   "cell_type": "code",
   "execution_count": 16,
   "id": "da80d4c5",
   "metadata": {},
   "outputs": [],
   "source": [
    "svc = SVC()  ### Замена класса"
   ]
  },
  {
   "cell_type": "code",
   "execution_count": 17,
   "id": "936f4749",
   "metadata": {},
   "outputs": [],
   "source": [
    "from sklearn.preprocessing import StandardScaler"
   ]
  },
  {
   "cell_type": "code",
   "execution_count": 11,
   "id": "305137ae",
   "metadata": {},
   "outputs": [],
   "source": [
    "sc = StandardScaler()"
   ]
  },
  {
   "cell_type": "code",
   "execution_count": 12,
   "id": "f6953971",
   "metadata": {},
   "outputs": [],
   "source": [
    "X = sc.fit_transform(X)\n",
    "X_t = sc.transform(X_t)"
   ]
  },
  {
   "cell_type": "code",
   "execution_count": 18,
   "id": "6ccc056f",
   "metadata": {},
   "outputs": [],
   "source": [
    "### Замена параметров\n",
    "paramgrid = {'kernel': ['poly', 'rbf', 'linear'], 'C': [1, 0.5]}"
   ]
  },
  {
   "cell_type": "code",
   "execution_count": 19,
   "id": "18fca92d",
   "metadata": {},
   "outputs": [],
   "source": [
    "GS_cv = GridSearchCV(svc, param_grid = paramgrid, cv = 3, scoring = 'f1')"
   ]
  },
  {
   "cell_type": "code",
   "execution_count": 20,
   "id": "b79f564a",
   "metadata": {},
   "outputs": [
    {
     "data": {
      "text/plain": [
       "GridSearchCV(cv=3, estimator=SVC(),\n",
       "             param_grid={'C': [1, 0.5], 'kernel': ['poly', 'rbf', 'linear']},\n",
       "             scoring='f1')"
      ]
     },
     "execution_count": 20,
     "metadata": {},
     "output_type": "execute_result"
    }
   ],
   "source": [
    "GS_cv.fit(X,y)"
   ]
  },
  {
   "cell_type": "code",
   "execution_count": 21,
   "id": "88b0c6ee",
   "metadata": {},
   "outputs": [
    {
     "data": {
      "text/plain": [
       "{'C': 1, 'kernel': 'rbf'}"
      ]
     },
     "execution_count": 21,
     "metadata": {},
     "output_type": "execute_result"
    }
   ],
   "source": [
    "GS_cv.best_params_"
   ]
  },
  {
   "cell_type": "code",
   "execution_count": 22,
   "id": "f63be04a",
   "metadata": {},
   "outputs": [],
   "source": [
    "best_gs_tree = GS_cv.best_estimator_"
   ]
  },
  {
   "cell_type": "code",
   "execution_count": 23,
   "id": "d05ded97",
   "metadata": {},
   "outputs": [
    {
     "data": {
      "text/plain": [
       "0.9585001539882969"
      ]
     },
     "execution_count": 23,
     "metadata": {},
     "output_type": "execute_result"
    }
   ],
   "source": [
    "best_gs_tree.score(X,y)"
   ]
  },
  {
   "cell_type": "code",
   "execution_count": 21,
   "id": "b1ab7917",
   "metadata": {},
   "outputs": [
    {
     "data": {
      "text/plain": [
       "0.9633507853403142"
      ]
     },
     "execution_count": 21,
     "metadata": {},
     "output_type": "execute_result"
    }
   ],
   "source": [
    "best_gs_tree.score(X_t,y_t)"
   ]
  },
  {
   "cell_type": "code",
   "execution_count": 23,
   "id": "3838a060",
   "metadata": {},
   "outputs": [
    {
     "data": {
      "text/plain": [
       "0.9575757575757575"
      ]
     },
     "execution_count": 23,
     "metadata": {},
     "output_type": "execute_result"
    }
   ],
   "source": [
    "from sklearn.metrics import f1_score\n",
    "pred = best_gs_tree.predict(X_t)\n",
    "f1_score(y_t, pred)"
   ]
  },
  {
   "cell_type": "code",
   "execution_count": 24,
   "id": "e6734dfa",
   "metadata": {},
   "outputs": [
    {
     "data": {
      "text/plain": [
       "1.0"
      ]
     },
     "execution_count": 24,
     "metadata": {},
     "output_type": "execute_result"
    }
   ],
   "source": [
    "pred = best_gs_tree.predict(X)\n",
    "f1_score(y, pred)"
   ]
  },
  {
   "cell_type": "code",
   "execution_count": 41,
   "id": "7408407c",
   "metadata": {},
   "outputs": [
    {
     "data": {
      "text/plain": [
       "DecisionTreeClassifier(max_depth=17, max_features=7, min_samples_split=11)"
      ]
     },
     "execution_count": 41,
     "metadata": {},
     "output_type": "execute_result"
    }
   ],
   "source": [
    "tree.fit(X,y)"
   ]
  },
  {
   "cell_type": "code",
   "execution_count": 42,
   "id": "cc2f66dd",
   "metadata": {},
   "outputs": [
    {
     "data": {
      "text/plain": [
       "0.9413325080684382"
      ]
     },
     "execution_count": 42,
     "metadata": {},
     "output_type": "execute_result"
    }
   ],
   "source": [
    "pred = tree.predict(X_t)\n",
    "f1_score(y_t, pred)"
   ]
  },
  {
   "cell_type": "code",
   "execution_count": null,
   "id": "0b4623b3",
   "metadata": {},
   "outputs": [],
   "source": []
  }
 ],
 "metadata": {
  "kernelspec": {
   "display_name": "Python 3 (ipykernel)",
   "language": "python",
   "name": "python3"
  },
  "language_info": {
   "codemirror_mode": {
    "name": "ipython",
    "version": 3
   },
   "file_extension": ".py",
   "mimetype": "text/x-python",
   "name": "python",
   "nbconvert_exporter": "python",
   "pygments_lexer": "ipython3",
   "version": "3.9.12"
  }
 },
 "nbformat": 4,
 "nbformat_minor": 5
}
